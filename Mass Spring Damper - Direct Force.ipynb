{
 "cells": [
  {
   "cell_type": "markdown",
   "metadata": {},
   "source": [
    "<h1 style=\"text-align:center\">Mass-Spring-Damper System with Direct Force Input</h1>\n",
    "<h3 style=\"text-align:center\"> MCHE 485: Mechanical Vibrations</h3> \n",
    "<p style=\"text-align:center\">Dr. Joshua Vaughan <br>\n",
    "<a href=\"mailto:joshua.vaughan@louisiana.edu\">joshua.vaughan@louisiana.edu</a><br>\n",
    "http://www.ucs.louisiana.edu/~jev9637/   </p>"
   ]
  },
  {
   "cell_type": "markdown",
   "metadata": {},
   "source": [
    "<p style=\"text-align:center\">\n",
    "\t<img src=\"http://shared.crawlab.org/MassSpringDamper_DirectForce_Horiz.png\" alt=\"A Direct-Force Mass-Spring-Damper System\" width=50%/></a><br>\n",
    "    <strong> Figure 1: A Direct Force Mass-Spring-Damper System </strong>\n",
    "</p>\n",
    "\n",
    "This notebook simluates the free vibration of a simple mass-spring-damper system like the one shown in Figure 1. More specifically, we'll look at how system response to non-zero initial conditions. \n",
    "\n",
    "The equation of motion for the system is:\n",
    "\n",
    "$ \\quad m \\ddot{x} + c \\dot{x} + kx = f $\n",
    "\n",
    "We could also rewrite this equation by dividing by the mass, $m$.\n",
    "\n",
    "$ \\quad \\ddot{x} + \\frac{c}{m}\\dot{x} + \\frac{k}{m}x = \\frac{f}{m}$\n",
    "\n",
    "or equivalently:\n",
    "\n",
    "$ \\quad \\ddot{x} = - \\frac{k}{m}x - \\frac{c}{m}\\dot{x} + \\frac{f}{m}$\n",
    "\n",
    "For information on how to obtain this equation, you can see the lectures at the [class website](http://www.ucs.louisiana.edu/~jev9637/MCHE485.html)."
   ]
  },
  {
   "cell_type": "markdown",
   "metadata": {},
   "source": [
    "To simluate this system using a numerical solver, we need to rewrite this equation of motion, which is a 2nd-order differential equation, as a system of 1st-order differential equations.\n",
    "\n",
    "To do so, define a state vector as $ \\bar{w} = \\left[x \\ \\dot{x}\\right]^T $. We can also define an input vector as  $\\bar{u} = \\left[f \\right]$. Since we only have one input to this system, the input vector only has one element.\n",
    "\n",
    "Then, the system of first-order ODEs we have to solve is:\n",
    "\n",
    "$ \\quad \\dot{\\bar{w}} = g(\\bar{w}, \\bar{u}, t) $\n",
    "\n",
    "Writing these out, we have:\n",
    "\n",
    "$ \\quad \\dot{\\bar{w}}  = \\left[\\dot{x} \\right.$\n",
    "\n",
    "$\\phantom{\\quad \\dot{\\bar{w}}  = \\left[\\right.}\\left. -\\frac{k}{m}x - \\frac{c}{m}\\dot{x} - \\frac{f}{m}\\right] $\n",
    "\n",
    "Now, we can use that system of 1st-order differential equations to simulate the system.\n",
    "\n",
    "To begin we will import the NumPy library, the matplotlib plotting library, and the ```odeint``` ODE solver from the SciPy library."
   ]
  },
  {
   "cell_type": "code",
   "execution_count": 5,
   "metadata": {
    "collapsed": false
   },
   "outputs": [],
   "source": [
    "import numpy as np              # Grab all of the NumPy functions with nickname np"
   ]
  },
  {
   "cell_type": "code",
   "execution_count": 6,
   "metadata": {
    "collapsed": false
   },
   "outputs": [],
   "source": [
    "%matplotlib inline\n",
    "\n",
    "# Import the plotting functions \n",
    "import matplotlib.pyplot as plt"
   ]
  },
  {
   "cell_type": "code",
   "execution_count": 7,
   "metadata": {
    "collapsed": true
   },
   "outputs": [],
   "source": [
    "# Import the ODE solver\n",
    "from scipy.integrate import odeint"
   ]
  },
  {
   "cell_type": "markdown",
   "metadata": {},
   "source": [
    "We need to define two functions for the differential equation solver to use. The first is just the system of differential equations to solve. I've defined it below by ```eq_of_motion()```. It is just the system of equations we wrote above. The second is the input force as a function of time. I have called it ```f()``` below. Here, it is just a pulse input in force, lasting 0.5 second."
   ]
  },
  {
   "cell_type": "code",
   "execution_count": 8,
   "metadata": {
    "collapsed": true
   },
   "outputs": [],
   "source": [
    "def eq_of_motion(w, t, p):\n",
    "    \"\"\"\n",
    "    Defines the differential equations for the direct-force mass-spring-damper system.\n",
    "\n",
    "    Arguments:\n",
    "        w :  vector of the state variables:\n",
    "        t :  time\n",
    "        p :  vector of the parameters:\n",
    "    \"\"\"\n",
    "    x, x_dot = w\n",
    "    m, k, c, StartTime, F_amp = p\n",
    "\n",
    "    # Create sysODE = (x', x_dot')\n",
    "    sysODE = [x_dot,\n",
    "              -k/m * x - c/m * x_dot + f(t, p)/m]\n",
    "    return sysODE\n",
    "\n",
    "\n",
    "def f(t, p):\n",
    "    \"\"\"\n",
    "    defines the disturbance force input to the system\n",
    "    \"\"\"\n",
    "    m, k, c, StartTime, F_amp = p\n",
    "    \n",
    "    # Select one of the two inputs below\n",
    "    # Be sure to comment out the one you're not using\n",
    "    \n",
    "    # Input Option 1: \n",
    "    #    Just a step in force beginning at t=DistStart\n",
    "    # f = F_amp * (t >= DistStart)\n",
    "    \n",
    "    # Input Option 2:\n",
    "    #    A pulse in force beginning at t=StartTime and ending at t=(StartTime + 0.5)\n",
    "    f = F_amp * (t >= StartTime) * (t <= StartTime + 0.5)\n",
    "    \n",
    "    return f"
   ]
  },
  {
   "cell_type": "code",
   "execution_count": 9,
   "metadata": {
    "collapsed": false
   },
   "outputs": [],
   "source": [
    "# Define the System Parameters\n",
    "m = 1.0                     # kg\n",
    "k = (2.0 * np.pi)**2        # N/m (Selected to give an undamped natrual frequency of 1Hz)\n",
    "wn = np.sqrt(k / m)         # Natural Frequency (rad/s)\n",
    "\n",
    "z = 0.1                     # Define a desired damping ratio\n",
    "c = 2 * z * wn * m          # calculate the damping coeff. to create it (N/(m/s))"
   ]
  },
  {
   "cell_type": "code",
   "execution_count": 10,
   "metadata": {
    "collapsed": false
   },
   "outputs": [],
   "source": [
    "# Set up simulation parameters\n",
    "\n",
    "# ODE solver parameters\n",
    "abserr = 1.0e-9\n",
    "relerr = 1.0e-9\n",
    "max_step = 0.01\n",
    "stoptime = 10.0\n",
    "numpoints = 10001\n",
    "\n",
    "# Create the time samples for the output of the ODE solver\n",
    "t = np.linspace(0.0, stoptime, numpoints)\n",
    "\n",
    "# Initial conditions\n",
    "x_init = 0.0                        # initial position\n",
    "x_dot_init = 0.0                    # initial velocity\n",
    "\n",
    "# Set up the parameters for the input function\n",
    "StartTime = 0.5              # Time the f(t) input will begin\n",
    "F_amp = 10.0                # Amplitude of Disturbance force (N)\n",
    "\n",
    "# Pack the parameters and initial conditions into arrays \n",
    "p = [m, k, c, StartTime, F_amp]\n",
    "x0 = [x_init, x_dot_init]"
   ]
  },
  {
   "cell_type": "markdown",
   "metadata": {},
   "source": [
    "Now, we will actually call the ode solver, using the ```odeint()``` function from the SciPy library. For more information on ```odeint```, see [the SciPy documentation](http://docs.scipy.org/doc/scipy/reference/generated/scipy.integrate.odeint.html)."
   ]
  },
  {
   "cell_type": "code",
   "execution_count": 11,
   "metadata": {
    "collapsed": false
   },
   "outputs": [],
   "source": [
    "# Call the ODE solver.\n",
    "resp = odeint(eq_of_motion, x0, t, args=(p,), atol=abserr, rtol=relerr,  hmax=max_step)"
   ]
  },
  {
   "cell_type": "markdown",
   "metadata": {},
   "source": [
    "The solver returns the time history of each state. To plot an individual response, we just simply pick the corresponding column. Below, we'll plot the position of the mass as a function of time."
   ]
  },
  {
   "cell_type": "code",
   "execution_count": 12,
   "metadata": {
    "collapsed": false
   },
   "outputs": [
    {
     "data": {
      "image/png": "[encoded data removed]",
      "text/plain": [
       "<matplotlib.figure.Figure at 0x78f4b38>"
      ]
     },
     "metadata": {},
     "output_type": "display_data"
    }
   ],
   "source": [
    "# Make the figure pretty, then plot the results\n",
    "#   \"pretty\" parameters selected based on pdf output, not screen output\n",
    "#   Many of these setting could also be made default by the .matplotlibrc file\n",
    "\n",
    "# Set the plot size - 3x2 aspect ratio is best\n",
    "fig = plt.figure(figsize=(6, 4))\n",
    "ax = plt.gca()\n",
    "plt.subplots_adjust(bottom=0.17, left=0.17, top=0.96, right=0.96)\n",
    "\n",
    "# Change the axis units to serif\n",
    "plt.setp(ax.get_ymajorticklabels(),family='serif',fontsize=18)\n",
    "plt.setp(ax.get_xmajorticklabels(),family='serif',fontsize=18)\n",
    "\n",
    "ax.spines['right'].set_color('none')\n",
    "ax.spines['top'].set_color('none')\n",
    "\n",
    "ax.xaxis.set_ticks_position('bottom')\n",
    "ax.yaxis.set_ticks_position('left')\n",
    "\n",
    "# Turn on the plot grid and set appropriate linestyle and color\n",
    "ax.grid(True,linestyle=':',color='0.75')\n",
    "ax.set_axisbelow(True)\n",
    "\n",
    "# Define the X and Y axis labels\n",
    "plt.xlabel('Time (s)', family='serif', fontsize=22, weight='bold', labelpad=5)\n",
    "plt.ylabel('Position', family='serif', fontsize=22, weight='bold', labelpad=10)\n",
    "\n",
    "# Plot the first element of resp for all time. It corresponds to the position.\n",
    "plt.plot(t, resp[:,0], linewidth=2, linestyle = '-', label=r'Response')\n",
    "\n",
    "# uncomment below and set limits if needed\n",
    "# xlim(0,5)\n",
    "# ylim(0,10)\n",
    "\n",
    "# # Create the legend, then fix the fontsize\n",
    "# leg = plt.legend(loc='upper right', fancybox=True)\n",
    "# ltext  = leg.get_texts()\n",
    "# plt.setp(ltext,family='serif',fontsize=18)\n",
    "\n",
    "# Adjust the page layout filling the page using the new tight_layout command\n",
    "plt.tight_layout(pad = 0.5)\n",
    "\n",
    "# save the figure as a high-res pdf in the current folder\n",
    "# It's saved at the original 6x4 size\n",
    "# plt.savefig('MCHE485_DirectForcePulseWithDamping.pdf')\n",
    "\n",
    "fig.set_size_inches(9, 6) # Resize the figure for better display in the notebook"
   ]
  },
  {
   "cell_type": "markdown",
   "metadata": {},
   "source": [
    "<hr class = \"style-end\">"
   ]
  },
  {
   "cell_type": "markdown",
   "metadata": {},
   "source": [
    "#### Licenses\n",
    "Code is licensed under a 3-clause BSD-style license. See the licenses/LICENSE.md file.\n",
    "\n",
    "Other content is provided under a [Creative Commons Attribution-NonCommercial 4.0 International License](http://creativecommons.org/licenses/by-nc/4.0/), CC-BY-NC 4.0."
   ]
  },
  {
   "cell_type": "code",
   "execution_count": 13,
   "metadata": {
    "collapsed": false
   },
   "outputs": [
    {
     "ename": "FileNotFoundError",
     "evalue": "[Errno 2] No such file or directory: 'styling/CRAWLAB_IPythonNotebook.css'",
     "output_type": "error",
     "traceback": [
      "\u001b[1;31m---------------------------------------------------------------------------\u001b[0m",
      "\u001b[1;31mFileNotFoundError\u001b[0m                         Traceback (most recent call last)",
      "\u001b[1;32m<ipython-input-13-9371b3583dee>\u001b[0m in \u001b[0;36m<module>\u001b[1;34m()\u001b[0m\n\u001b[0;32m      4\u001b[0m \u001b[1;32mfrom\u001b[0m \u001b[0mIPython\u001b[0m\u001b[1;33m.\u001b[0m\u001b[0mcore\u001b[0m\u001b[1;33m.\u001b[0m\u001b[0mdisplay\u001b[0m \u001b[1;32mimport\u001b[0m \u001b[0mHTML\u001b[0m\u001b[1;33m\u001b[0m\u001b[0m\n\u001b[0;32m      5\u001b[0m \u001b[0mcss_file\u001b[0m \u001b[1;33m=\u001b[0m \u001b[1;34m'styling/CRAWLAB_IPythonNotebook.css'\u001b[0m\u001b[1;33m\u001b[0m\u001b[0m\n\u001b[1;32m----> 6\u001b[1;33m \u001b[0mHTML\u001b[0m\u001b[1;33m(\u001b[0m\u001b[0mopen\u001b[0m\u001b[1;33m(\u001b[0m\u001b[0mcss_file\u001b[0m\u001b[1;33m,\u001b[0m \u001b[1;34m\"r\"\u001b[0m\u001b[1;33m)\u001b[0m\u001b[1;33m.\u001b[0m\u001b[0mread\u001b[0m\u001b[1;33m(\u001b[0m\u001b[1;33m)\u001b[0m\u001b[1;33m)\u001b[0m\u001b[1;33m\u001b[0m\u001b[0m\n\u001b[0m",
      "\u001b[1;31mFileNotFoundError\u001b[0m: [Errno 2] No such file or directory: 'styling/CRAWLAB_IPythonNotebook.css'"
     ]
    }
   ],
   "source": [
    "# Ignore this cell - We just update the CSS to make the notebook look a little bit better and easier to read\n",
    "\n",
    "# Improve the notebook styling -- Run this first\n",
    "from IPython.core.display import HTML\n",
    "css_file = 'styling/CRAWLAB_IPythonNotebook.css'\n",
    "HTML(open(css_file, \"r\").read())"
   ]
  },
  {
   "cell_type": "code",
   "execution_count": null,
   "metadata": {
    "collapsed": true
   },
   "outputs": [],
   "source": []
  }
 ],
 "metadata": {
  "kernelspec": {
   "display_name": "Python 3",
   "language": "python",
   "name": "python3"
  },
  "language_info": {
   "codemirror_mode": {
    "name": "ipython",
    "version": 3
   },
   "file_extension": ".py",
   "mimetype": "text/x-python",
   "name": "python",
   "nbconvert_exporter": "python",
   "pygments_lexer": "ipython3",
   "version": "3.5.1"
  }
 },
 "nbformat": 4,
 "nbformat_minor": 0
}
