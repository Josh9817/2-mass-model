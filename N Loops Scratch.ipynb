{
 "cells": [
  {
   "cell_type": "code",
   "execution_count": 1,
   "metadata": {
    "collapsed": true
   },
   "outputs": [],
   "source": [
    "import numpy as np              # Grab all of the NumPy functions with nickname np"
   ]
  },
  {
   "cell_type": "code",
   "execution_count": 2,
   "metadata": {
    "collapsed": true
   },
   "outputs": [],
   "source": [
    "# We want our plots to be displayed inline, not in a separate window\n",
    "%matplotlib inline\n",
    "\n",
    "# Import the plotting functions  \n",
    "import matplotlib.pyplot as plt\n",
    "\n",
    "# Import the ODE solver for our time response analysis\n",
    "from scipy.integrate import odeint  "
   ]
  },
  {
   "cell_type": "code",
   "execution_count": 19,
   "metadata": {
    "collapsed": false
   },
   "outputs": [
    {
     "name": "stdout",
     "output_type": "stream",
     "text": [
      "['x0', 'x0_dot', 'x1', 'x1_dot', 'x2', 'x2_dot', 'x3', 'x3_dot', 'x4', 'x4_dot', 'x5', 'x5_dot', 'x6', 'x6_dot', 'x7', 'x7_dot', 'x8', 'x8_dot', 'x9', 'x9_dot']\n"
     ]
    }
   ],
   "source": [
    "N_m = 10\n",
    "X=[]\n",
    "i=0\n",
    "while i < N_m:\n",
    "    X.append('x%s'%(i))\n",
    "    X.append('x%s_dot'%(i))\n",
    "    i+=1\n",
    "    \n",
    "print(X)"
   ]
  },
  {
   "cell_type": "code",
   "execution_count": 11,
   "metadata": {
    "collapsed": false
   },
   "outputs": [
    {
     "ename": "AttributeError",
     "evalue": "'str' object has no attribute 'append'",
     "output_type": "error",
     "traceback": [
      "\u001b[1;31m---------------------------------------------------------------------------\u001b[0m",
      "\u001b[1;31mAttributeError\u001b[0m                            Traceback (most recent call last)",
      "\u001b[1;32m<ipython-input-11-563acc16cbca>\u001b[0m in \u001b[0;36m<module>\u001b[1;34m()\u001b[0m\n\u001b[0;32m      2\u001b[0m \u001b[1;32mwhile\u001b[0m \u001b[0mi\u001b[0m \u001b[1;33m<\u001b[0m\u001b[0mN_m\u001b[0m\u001b[1;33m:\u001b[0m\u001b[1;33m\u001b[0m\u001b[0m\n\u001b[0;32m      3\u001b[0m     \u001b[0mxi\u001b[0m \u001b[1;33m=\u001b[0m \u001b[1;36m0\u001b[0m\u001b[1;33m\u001b[0m\u001b[0m\n\u001b[1;32m----> 4\u001b[1;33m     \u001b[0mX\u001b[0m\u001b[1;33m[\u001b[0m\u001b[0mi\u001b[0m\u001b[1;33m]\u001b[0m\u001b[1;33m.\u001b[0m\u001b[0mappend\u001b[0m\u001b[1;33m(\u001b[0m\u001b[0mxi\u001b[0m\u001b[1;33m)\u001b[0m\u001b[1;31m# = 'x{}'.format(i)\u001b[0m\u001b[1;33m\u001b[0m\u001b[0m\n\u001b[0m\u001b[0;32m      5\u001b[0m     \u001b[0mi\u001b[0m\u001b[1;33m+=\u001b[0m\u001b[1;36m1\u001b[0m\u001b[1;33m\u001b[0m\u001b[0m\n\u001b[0;32m      6\u001b[0m     \u001b[0mX\u001b[0m\u001b[1;33m[\u001b[0m\u001b[0mi\u001b[0m\u001b[1;33m]\u001b[0m \u001b[1;33m=\u001b[0m \u001b[1;34m'x{}_dot'\u001b[0m \u001b[1;33m.\u001b[0m\u001b[0mformat\u001b[0m\u001b[1;33m(\u001b[0m\u001b[0mi\u001b[0m\u001b[1;33m-\u001b[0m\u001b[1;36m1\u001b[0m\u001b[1;33m)\u001b[0m\u001b[1;33m\u001b[0m\u001b[0m\n",
      "\u001b[1;31mAttributeError\u001b[0m: 'str' object has no attribute 'append'"
     ]
    }
   ],
   "source": [
    "i=0\n",
    "while i <N_m:\n",
    "    xi = 0\n",
    "    X[i].append(xi)# = 'x{}'.format(i)\n",
    "    i+=1\n",
    "    X[i] = 'x{}_dot' .format(i-1)\n",
    "    i+=1\n",
    "print(X)"
   ]
  },
  {
   "cell_type": "code",
   "execution_count": 26,
   "metadata": {
    "collapsed": false
   },
   "outputs": [
    {
     "name": "stdout",
     "output_type": "stream",
     "text": [
      "['x0_dot', 'x0_ddot', 'x1_dot', 'x1_ddot', 'x2_dot', 'x2_ddot', 'x3_dot', 'x3_ddot', 'x4_dot', 'x4_ddot', 'x5_dot', 'x5_ddot', 'x6_dot', 'x6_ddot', 'x7_dot', 'x7_ddot', 'x8_dot', 'x8_ddot', 'x9_dot', 'x9_ddot']\n"
     ]
    }
   ],
   "source": [
    "sysODE=[]\n",
    "i=0\n",
    "while i < N_m:\n",
    "    sysODE.append('x%s_dot'%(i))\n",
    "    sysODE.append('x%s_ddot'%(i))\n",
    "    i+=1\n",
    "    \n",
    "print(sysODE)"
   ]
  },
  {
   "cell_type": "code",
   "execution_count": 3,
   "metadata": {
    "collapsed": false
   },
   "outputs": [
    {
     "ename": "TypeError",
     "evalue": "'str' object is not callable",
     "output_type": "error",
     "traceback": [
      "\u001b[1;31m---------------------------------------------------------------------------\u001b[0m",
      "\u001b[1;31mTypeError\u001b[0m                                 Traceback (most recent call last)",
      "\u001b[1;32m<ipython-input-3-864eef9d564c>\u001b[0m in \u001b[0;36m<module>\u001b[1;34m()\u001b[0m\n\u001b[0;32m     42\u001b[0m \u001b[0mi\u001b[0m \u001b[1;33m=\u001b[0m \u001b[1;36m0\u001b[0m\u001b[1;33m\u001b[0m\u001b[0m\n\u001b[0;32m     43\u001b[0m \u001b[1;32mwhile\u001b[0m \u001b[0mi\u001b[0m \u001b[1;33m<\u001b[0m \u001b[0mN_m\u001b[0m\u001b[1;33m:\u001b[0m\u001b[1;33m\u001b[0m\u001b[0m\n\u001b[1;32m---> 44\u001b[1;33m     \u001b[0mX\u001b[0m\u001b[1;33m[\u001b[0m\u001b[0mi\u001b[0m\u001b[1;33m]\u001b[0m \u001b[1;33m=\u001b[0m \u001b[1;34m'x%d'\u001b[0m\u001b[1;33m(\u001b[0m\u001b[0mi\u001b[0m\u001b[1;33m)\u001b[0m\u001b[1;33m\u001b[0m\u001b[0m\n\u001b[0m\u001b[0;32m     45\u001b[0m     \u001b[0mi\u001b[0m \u001b[1;33m=\u001b[0m \u001b[0mi\u001b[0m \u001b[1;33m+\u001b[0m \u001b[1;36m1\u001b[0m\u001b[1;33m\u001b[0m\u001b[0m\n\u001b[0;32m     46\u001b[0m     \u001b[0mX\u001b[0m\u001b[1;33m[\u001b[0m\u001b[0mi\u001b[0m\u001b[1;33m]\u001b[0m \u001b[1;33m=\u001b[0m \u001b[0mx\u001b[0m\u001b[1;33m(\u001b[0m\u001b[0mi\u001b[0m\u001b[1;33m-\u001b[0m\u001b[1;36m1\u001b[0m\u001b[1;33m)\u001b[0m\u001b[1;33m(\u001b[0m\u001b[0mdot\u001b[0m\u001b[1;33m)\u001b[0m\u001b[1;33m\u001b[0m\u001b[0m\n",
      "\u001b[1;31mTypeError\u001b[0m: 'str' object is not callable"
     ]
    }
   ],
   "source": [
    "#defining the ship mass, stiffness, and damping constants starting with [0]\n",
    "M0 = 1\n",
    "K0 = 2\n",
    "C0 = 3\n",
    "\n",
    "#string elements start with [1]\n",
    "M1 = 10\n",
    "K1 = 20\n",
    "C1 = 30\n",
    "\n",
    "N_m = 10                 #specify the number of masses in the model, total\n",
    "#Creating the vectors for the string constants\n",
    "K = np.linspace(1., N_m, N_m)\n",
    "C = np.linspace(1., N_m, N_m)\n",
    "M = np.linspace(1., N_m, N_m)\n",
    "A = np.linspace(1., N_m, N_m)\n",
    "OMEGA = np.linspace(1., N_m, N_m)\n",
    "PHI = np.linspace(1., N_m, N_m)\n",
    "X = np.linspace(1., N_m, 2*N_m)\n",
    "#p = np.linspace(1., N_m, 10*N_m)\n",
    "\n",
    "#ship Mass, Stiffness, Damping start in the vectors at 0\n",
    "M[0] = M0\n",
    "K[0] = K0\n",
    "C[0] = C0\n",
    "\n",
    "#string elements start with [1]\n",
    "M[1] = M1\n",
    "K[1] = K1\n",
    "C[1] = C1\n",
    "\n",
    "#for simplicity, setting each string element equal to the first.  \n",
    "#this can be changed to a formula for the properties of each string element later\n",
    "i = 2\n",
    "while i < N_m:\n",
    "    K[i] = K[1]\n",
    "    M[i] = M[1]\n",
    "    C[i] = C[1]\n",
    "    i = i + 1\n",
    "\n",
    "#defining the x, x_dot vector for w\n",
    "i = 0\n",
    "while i < N_m:\n",
    "    X[i] = 'x%d'(i)\n",
    "    i = i + 1\n",
    "    X[i] = x(i-1)(dot)\n",
    "    i = i + 1\n",
    "\n",
    "print(X)\n",
    "\n",
    "#np.append([K,M,C], axis=0)\n",
    "#can also automate plotting maybe with i for the intermediate string elements, but explicitly write for \n",
    "#the ship, string top, and string bottom\n",
    "    "
   ]
  },
  {
   "cell_type": "code",
   "execution_count": 4,
   "metadata": {
    "collapsed": false
   },
   "outputs": [
    {
     "data": {
      "text/plain": [
       "array([  3.,  30.,  30.,  30.,  30.,  30.,  30.,  30.,  30.,  30.])"
      ]
     },
     "execution_count": 4,
     "metadata": {},
     "output_type": "execute_result"
    }
   ],
   "source": [
    "#M[:] + K[:]\n",
    "M + K\n"
   ]
  },
  {
   "cell_type": "code",
   "execution_count": 5,
   "metadata": {
    "collapsed": false
   },
   "outputs": [
    {
     "name": "stdout",
     "output_type": "stream",
     "text": [
      "[  1.  10.  10.  10.  10.  10.  10.  10.  10.  10.   2.  20.  20.  20.  20.\n",
      "  20.  20.  20.  20.  20.   3.  30.  30.  30.  30.  30.  30.  30.  30.  30.]\n",
      "[[1 2]\n",
      " [3 4]\n",
      " [5 6]]\n"
     ]
    }
   ],
   "source": [
    "a=np.array([[1,2],[3,4]])\n",
    "b=np.array([[5,6]])\n",
    "np.concatenate((a,b),)\n",
    "p = np.concatenate((M,K,C),)\n",
    "print(p)\n",
    "print(np.concatenate((a,b),))"
   ]
  },
  {
   "cell_type": "code",
   "execution_count": 8,
   "metadata": {
    "collapsed": false
   },
   "outputs": [],
   "source": [
    "def eq_of_motion(w, t, p):\n",
    "    \"\"\"\n",
    "    Defines the differential equations for the direct-force mass-spring-damper system.\n",
    "\n",
    "    Arguments:\n",
    "        w :  vector of the state variables:\n",
    "        t :  time\n",
    "        p :  vector of the parameters:\n",
    "    \"\"\"\n",
    "    X = w\n",
    "    M,K,C,A,OMEGA,PHI = p\n",
    "    #[M1, M2, M3, M4, M5, M6, M7, M8, M9, M10, K1, K2, K3, K4, K5, K6, K7, K8, K9, K10, StartTime, A_amp, omega, A_1, A_2, A_3, A_4, A_5, omega_1, omega_2, omega_3, omega_4, omega_5,\n",
    "     #phi_1, phi_2, phi_3, phi_4, phi_5, C1, C2, C3, C4, C5, C6, C7, C8, C9, C10] = p\n",
    "    \n",
    "    # Create sysODE = (x1', x1_dot', y', y_dot') \n",
    "    #x = x1, x_dot = x1_dot, y = x2, y_dot = x2_dot\n",
    "    #create x vector = [1] ship position, [2] ship velocity, [3] string 1 position, [4] string 1 velocity, [5] s2 po, [6] s2 vel, [7] s3 po, [8] s3 vel\n",
    "    \n",
    "    sysODE[0] = w[1]\n",
    "    sysODE[1] = -C[0]/M[0] * w[1] - (K[0] + K[1])/M[0] * w[2] + K[1]/M[0] * w[4] + x_wave(t, p)\n",
    "    \n",
    "    #this loop creates the xi_dot elements of the sysODE\n",
    "    i = 2                                #starts at 2 because 0 is defined explicitly for the ship above\n",
    "    while i < (2 * N_ms):\n",
    "        sysODE[i] = x(i/2)_dot        \n",
    "        i = i+2                          #i + 2 is used to skip the xddot elements of sysODE\n",
    "    \n",
    "    i = 2\n",
    "    while i < (2 * N_ms):\n",
    "        sysODE[i+1] = -C[i/2]/M[i/2] * x(i/2)_dot + K[i/2]/M[i] * x(i/2-1) - (K[i/2] + K[i/2+1])/M[i/2] * x(i/2) + K[i/2+1]/M(i/2) * x(i/2+1)\n",
    "        i=i+2\n",
    "        \n",
    "    sysODE[N_ms-1] = x(N_ms)_dot\n",
    "    sysODE[N_ms] = -C[N_ms]/M[N_ms] * x(N_ms)_dot + K[N_ms]/M[N_ms] * x(N_ms-1) - K[N_ms]/M[N_ms] * x(N_ms)\n",
    "    return sysODE"
   ]
  },
  {
   "cell_type": "code",
   "execution_count": null,
   "metadata": {
    "collapsed": true
   },
   "outputs": [],
   "source": [
    "def eq_of_motion2(w, t, p):\n",
    "    \"\"\"\n",
    "    Defines the differential equations for the direct-force mass-spring-damper system.\n",
    "\n",
    "    Arguments:\n",
    "        w :  vector of the state variables:\n",
    "        t :  time\n",
    "        p :  vector of the parameters:\n",
    "    \"\"\"\n",
    "    x1, x1_dot, x2, x2_dot, x3, x3_dot, x4, x4_dot, x5, x5_dot, x6, x6_dot, x7, x7_dot, x8, x8_dot, x9, x9_dot, x10, x10_dot,= w\n",
    "    [M, K, StartTime, A_amp, omega, A_1, A_2, A_3, A_4, A_5, omega_1, omega_2, omega_3, omega_4, omega_5,\n",
    "     phi_1, phi_2, phi_3, phi_4, phi_5, C] = p\n",
    "    #[M1, M2, M3, M4, M5, M6, M7, M8, M9, M10, K1, K2, K3, K4, K5, K6, K7, K8, K9, K10, StartTime, A_amp, omega, A_1, A_2, A_3, A_4, A_5, omega_1, omega_2, omega_3, omega_4, omega_5,\n",
    "     #phi_1, phi_2, phi_3, phi_4, phi_5, C1, C2, C3, C4, C5, C6, C7, C8, C9, C10] = p\n",
    "    \n",
    "    # Create sysODE = (x1', x1_dot', y', y_dot') \n",
    "    #x = x1, x_dot = x1_dot, y = x2, y_dot = x2_dot\n",
    "    #create x vector = [1] ship position, [2] ship velocity, [3] string 1 position, [4] string 1 velocity, [5] s2 po, [6] s2 vel, [7] s3 po, [8] s3 vel\n",
    "    \n",
    "    sysODE = [x1_dot,\n",
    "              -C1/M1 * x1_dot - (K1 + K2)/M1 * x1 + K2/M1 * x2 + x_wave(t, p),\n",
    "              x2_dot, \n",
    "              -C2/M2 * x2_dot + K2/M2 * x1 - (K2 + K3)/M2 * x2 + K3/M2 * x3,\n",
    "              x3_dot,\n",
    "              -C3/M3 * x3_dot + K3/M3 * x2 - (K3 + K4)/M3 * x3 + K4/M3 * x4,\n",
    "              x4_dot,\n",
    "              -C4/M4 * x4_dot + K4/M4 * x3 - (K4 + K5)/M4 * x4 + K5/M4 * x5,\n",
    "              x5_dot,\n",
    "              -C5/M5 * x5_dot + K5/M5 * x4 - (K5 + K6)/M5 * x5 + K6/M5 * x6,\n",
    "              x6_dot,\n",
    "              -C6/M6 * x6_dot + K6/M6 * x5 - (K6 + K7)/M6 * x6 + K7/M6 * x7,\n",
    "              x7_dot,\n",
    "              -C7/M7 * x7_dot + K7/M7 * x6 - (K7 + K8)/M7 * x7 + K8/M7 * x8,\n",
    "              x8_dot,\n",
    "              -C8/M8 * x8_dot + K8/M8 * x7 - (K8 + K9)/M8 * x8 + K9/M8 * x9,\n",
    "              x9_dot,\n",
    "              -C9/M9 * x9_dot + K9/M9 * x8 - (K9 + K10)/M9 * x9 + K10/M9 * x10,\n",
    "              x10_dot,\n",
    "              -C10/M10 * x10_dot + K10/M10 * x9 - K10/M10 * x10]\n",
    "    return sysODE"
   ]
  },
  {
   "cell_type": "code",
   "execution_count": 12,
   "metadata": {
    "collapsed": false
   },
   "outputs": [
    {
     "name": "stdout",
     "output_type": "stream",
     "text": [
      "K0 =  48224.0 kN/m\n",
      "['x0_dot', 'x0_ddot', 'x1_dot', 'x1_ddot', 'x2_dot', 'x2_ddot', 'x3_dot', 'x3_ddot', 'x4_dot', 'x4_ddot', 'x5_dot', 'x5_ddot', 'x6_dot', 'x6_ddot', 'x7_dot', 'x7_ddot', 'x8_dot', 'x8_ddot', 'x9_dot', 'x9_ddot']\n"
     ]
    }
   ],
   "source": [
    "# Define the System Parameters\n",
    "M0 = 90e6                 # kg (average weight of modern drillships ~200 Mlb)\n",
    "wn0 = .732                # Natural Frequency (rad/s) of the drillship from FFT of measured data,- \n",
    "                          # typical range between .628 to .880 from literature\n",
    "K0 = wn0**2 * M0          # N/m \n",
    "#wn = np.sqrt(k / m)      # Natural Frequency (rad/s)\n",
    "z0 = .1                   # Ship damping coefficient\n",
    "z1 = .1                   # String damping coefficient\n",
    "C0 = 2*M0*wn0*z0\n",
    "\n",
    "#z = 0.25                 # Define a desired damping ratio *commented out becasue this model assumes no damping\n",
    "#c = 2 * z * wn * m       # calculate the damping coeff. to create it (N/(m/s))*commented out becasue this model- \n",
    "                          # assumes no damping\n",
    "\n",
    "#wd = wn*np.sqrt(1-z**2)  # Damped natural frequency (rad/s) *commented out becasue this model assumes no damping\n",
    "print(\"K0 = \",round(K0/1000,0),\"kN/m\")\n",
    "\n",
    "M1 = 888e3                # kg (calculated from 2 mass model code, total string weight)\n",
    "K1 = 496e3                # N/m (calculated from 2 mass model code, equivalent total string stiffness)\n",
    "wn1 = np.sqrt(K1/M1)      # Natural Frequency (rad/s) of total string\n",
    "C1 = 2*M1*wn1*z1\n",
    "\n",
    "#redefining K, C and M for N_m equivalent string elements rather than 1 combined element (from 2 mass model - ship & string)\n",
    "N_m = 10                 #specify the number of masses in the model, total\n",
    "K = np.linspace(1., N_m, N_m)\n",
    "C = np.linspace(1., N_m, N_m)\n",
    "M = np.linspace(1., N_m, N_m)\n",
    "\n",
    "#packing ship mass, stiffness, and damping into appropriate vectors\n",
    "M[0] = M0\n",
    "K[0] = K0\n",
    "C[0] = C0\n",
    "N_ms = N_m - 1            #elements in the string (minus one for the ship from the total number of masses in the model)\n",
    "\n",
    "K[1] = N_ms*K1\n",
    "M[1] = M1/N_ms\n",
    "C[1] = C1/N_ms\n",
    "\n",
    "#for simplicity, setting each string element equal to the first.  \n",
    "#this can be changed to a formula for the properties of each string element later\n",
    "i = 2\n",
    "while i <= N_ms:\n",
    "    K[i] = K[1]\n",
    "    M[i] = M[1]\n",
    "    C[i] = C[1]\n",
    "    i += 1\n",
    "    \n",
    "X=[]\n",
    "i=0\n",
    "while i < N_m:\n",
    "    X.append('x%d'%(i))\n",
    "    X.append('x%d_dot'%(i))\n",
    "    i+=1\n",
    "\n",
    "#builds initial size of sysODE, actual values to be determined in def block\n",
    "sysODE=[]\n",
    "i=0\n",
    "while i < N_m:\n",
    "    sysODE.append('x%d_dot'%(i))\n",
    "    sysODE.append('x%d_ddot'%(i))\n",
    "    i+=1\n",
    "\n",
    "\n",
    "    \n",
    "print(sysODE)"
   ]
  },
  {
   "cell_type": "code",
   "execution_count": 23,
   "metadata": {
    "collapsed": false
   },
   "outputs": [
    {
     "ename": "NameError",
     "evalue": "name 'p' is not defined",
     "output_type": "error",
     "traceback": [
      "\u001b[1;31m---------------------------------------------------------------------------\u001b[0m",
      "\u001b[1;31mNameError\u001b[0m                                 Traceback (most recent call last)",
      "\u001b[1;32m<ipython-input-23-22f0e423a293>\u001b[0m in \u001b[0;36m<module>\u001b[1;34m()\u001b[0m\n\u001b[0;32m     80\u001b[0m \u001b[1;31m#print('x_wave = ', x_wave(t,p))\u001b[0m\u001b[1;33m\u001b[0m\u001b[1;33m\u001b[0m\u001b[0m\n\u001b[0;32m     81\u001b[0m \u001b[1;31m#print(x_wave(t,p))\u001b[0m\u001b[1;33m\u001b[0m\u001b[1;33m\u001b[0m\u001b[0m\n\u001b[1;32m---> 82\u001b[1;33m \u001b[0mprint\u001b[0m\u001b[1;33m(\u001b[0m\u001b[0mp\u001b[0m\u001b[1;33m)\u001b[0m\u001b[1;33m\u001b[0m\u001b[0m\n\u001b[0m",
      "\u001b[1;31mNameError\u001b[0m: name 'p' is not defined"
     ]
    }
   ],
   "source": [
    "# Create the time samples for the output of the ODE solver\n",
    "stoptime = 120.0\n",
    "numpoints = 10001\n",
    "t = np.linspace(0.0, stoptime, numpoints)\n",
    "stoptimemin = stoptime/60\n",
    "\n",
    "#Bobby's Parameters:\n",
    "#     Declaration of variables\n",
    "V_knots = 30.     # In knots 15 original\n",
    "g = 9.81          # Gravity m/s^2\n",
    "N = 5             # Number of desired frequencies\n",
    "\n",
    "A = np.linspace(1., N, N)\n",
    "OMEGA = np.linspace(1., N, N)\n",
    "PHI = np.linspace(1., N, N)\n",
    "S = np.linspace(1., N, N)\n",
    "\n",
    "OMEGA[0] = .2     #rad/s\n",
    "OMEGA[-1] = 1.5       #rad/s\n",
    "PHI[0] = 0         #rad\n",
    "PHI[-1] = 2*np.pi   #rad\n",
    "\n",
    "#V_knots, g, omega, A_sp, B_sp, S, delta_omega, A_i, omega_i, g, t, phi_i, \n",
    "V = V_knots * 0.5144    # Conversion from knots to m/s\n",
    "H_s = 0.21 * (V**2 / g) #m\n",
    "\n",
    "A_sp = 8.1 * 10**-3 * g**2\n",
    "B_sp = 3.11 / H_s**2\n",
    "\n",
    "delta_omega = (OMEGA[-1] - OMEGA[0])/N\n",
    "delta_phi = (PHI[1] - PHI[0])/N\n",
    "i = 1\n",
    "while i < N - 1:\n",
    "    OMEGA[i] = delta_omega + OMEGA[i-1]\n",
    "    PHI[i] = delta_phi + PHI[i-1]\n",
    "    i+=1\n",
    "\n",
    "\n",
    "#+np.pi*rand() or rand() - rand()  to center the random number about pi or 0\n",
    "#  IS THIS RANGE OF PHI SUFFICIENT TO GENERATE RANDOM VALUES?  THIS PROCEDURE DIVIDES THE COMPLETE REVOLUTION RANGE BY N.\n",
    "\n",
    "i=0\n",
    "while i < N:\n",
    "    S[i] = (A_sp / OMEGA[i]**5) * np.exp(-B_sp / OMEGA[i]**4)\n",
    "    A[i] = np.sqrt(2 * S[i] * delta_omega)\n",
    "    i+=1\n",
    "\n",
    "\n",
    "###############################################################################################################Bobby's PM Bot\n",
    "\n",
    "\n",
    "def x_wave(t, p):\n",
    "    \"\"\"\n",
    "    defines the disturbance wave input to the system\n",
    "    \"\"\"\n",
    "    [K, C, M, A, OMEGA, PHI, S] = p\n",
    "    #[M1, M2, M3, M4, M5, M6, M7, M8, M9, M10, K1, K2, K3, K4, K5, K6, K7, K8, K9, K10, StartTime, A_amp, omega, A_1, A_2, A_3, A_4, A_5, omega_1, omega_2, omega_3, omega_4, omega_5,\n",
    "     #phi_1, phi_2, phi_3, phi_4, phi_5, C1, C2, C3, C4, C5, C6, C7, C8, C9, C10] = p\n",
    "    \n",
    "    #    Need to sum up several omega's from Bobby's PM Spectrum notebook here\n",
    "#    x_wave = K1/M1 * A_amp * np.sin(omega * t)   #original wave input, single frequency and amplitude, no phase shift\n",
    "#    x_wave = K1/M1 * (A_amp * np.sin(omega * t) + A_amp*1.1342 * np.sin(omega*t*1.2452+1.1452) \n",
    "#                      + A_amp*.8956 * np.sin(omega*t*1.6+3.56) + A_amp*1.425 * np.sin(omega*t*.526+5.263)\n",
    "#                     + A_amp*.6854 * np.sin(omega*t*.428+4.5356))  #2nd wave input, combination of 5 \n",
    "#                                                                   randomly chosen frequencies\n",
    "#    x_wave = K1/M1 * A_amp * np.sin(omega * t)\n",
    "    \n",
    "    i=0\n",
    "    while i < N:\n",
    "        x_wave_sum += A[i] * np.sin(OMEGA[i] * t + PHI[i])\n",
    "        i+=1\n",
    "        \n",
    "    x_wave = K1/M1 * x_wave_sum\n",
    "    #(A_1 * np.sin(omega_1 * t + phi_1) + A_2 * np.sin(omega_2 * t + phi_2) +\n",
    "                      # A_3 * np.sin(omega_3 * t + phi_3) + A_4 * np.sin(omega_4 * t + phi_4) +\n",
    "                      # A_5 * np.sin(omega_5 * t + phi_5))\n",
    "    return x_wave\n",
    "\n",
    "              \n",
    "#print('x_wave = ', x_wave(t,p))\n",
    "#print(x_wave(t,p))\n",
    "#print(p)\n"
   ]
  },
  {
   "cell_type": "code",
   "execution_count": 27,
   "metadata": {
    "collapsed": false
   },
   "outputs": [
    {
     "name": "stdout",
     "output_type": "stream",
     "text": [
      "[ 1.04450809  1.05545958  1.06632218 ..., -1.28776927 -1.27973079\n",
      " -1.27158267]\n"
     ]
    }
   ],
   "source": [
    "x_wave_sum = 0\n",
    "i=0\n",
    "while i < N:\n",
    "    x_wave_sum += A[i] * np.sin(OMEGA[i] * t + PHI[i])\n",
    "    i+=1\n",
    "        \n",
    "x_wave = K1/M1 * x_wave_sum\n",
    "    #(A_1 * np.sin(omega_1 * t + phi_1) + A_2 * np.sin(omega_2 * t + phi_2) +\n",
    "                      # A_3 * np.sin(omega_3 * t + phi_3) + A_4 * np.sin(omega_4 * t + phi_4) +\n",
    "                      # A_5 * np.sin(omega_5 * t + phi_5))\n",
    "print(x_wave) "
   ]
  }
 ],
 "metadata": {
  "kernelspec": {
   "display_name": "Python 3",
   "language": "python",
   "name": "python3"
  },
  "language_info": {
   "codemirror_mode": {
    "name": "ipython",
    "version": 3
   },
   "file_extension": ".py",
   "mimetype": "text/x-python",
   "name": "python",
   "nbconvert_exporter": "python",
   "pygments_lexer": "ipython3",
   "version": "3.5.1"
  }
 },
 "nbformat": 4,
 "nbformat_minor": 0
}
