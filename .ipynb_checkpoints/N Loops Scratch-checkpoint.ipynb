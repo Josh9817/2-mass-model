{
 "cells": [
  {
   "cell_type": "code",
   "execution_count": 1,
   "metadata": {
    "collapsed": true
   },
   "outputs": [],
   "source": [
    "import numpy as np              # Grab all of the NumPy functions with nickname np"
   ]
  },
  {
   "cell_type": "code",
   "execution_count": null,
   "metadata": {
    "collapsed": true
   },
   "outputs": [],
   "source": [
    "# We want our plots to be displayed inline, not in a separate window\n",
    "%matplotlib inline\n",
    "\n",
    "# Import the plotting functions  \n",
    "import matplotlib.pyplot as plt\n",
    "\n",
    "# Import the ODE solver for our time response analysis\n",
    "from scipy.integrate import odeint  "
   ]
  },
  {
   "cell_type": "code",
   "execution_count": null,
   "metadata": {
    "collapsed": true
   },
   "outputs": [],
   "source": [
    "#ship Mass, Stiffness, Damping start in the vectors at 0\n",
    "M[0] = M0\n",
    "K[0] = K0\n",
    "C[0] = C0\n",
    "\n",
    "#string elements start with [1]\n",
    "M[1] = M1\n",
    "K[1] = K1\n",
    "C[1] = C1\n",
    "\n",
    "i = 2\n",
    "while i < N_m:\n",
    "    K[i] = K[1]\n",
    "    M[i] = M[1]\n",
    "    C[i] = C[1]\n",
    "    x\n",
    "    i = i + 1\n",
    "\n",
    "#can also automate plotting maybe with i for the intermediate string elements, but explicitly write for \n",
    "#the ship, string top, and string bottom\n",
    "    "
   ]
  }
 ],
 "metadata": {
  "kernelspec": {
   "display_name": "Python 3",
   "language": "python",
   "name": "python3"
  },
  "language_info": {
   "codemirror_mode": {
    "name": "ipython",
    "version": 3
   },
   "file_extension": ".py",
   "mimetype": "text/x-python",
   "name": "python",
   "nbconvert_exporter": "python",
   "pygments_lexer": "ipython3",
   "version": "3.5.1"
  }
 },
 "nbformat": 4,
 "nbformat_minor": 0
}
