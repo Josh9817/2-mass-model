{
 "cells": [
  {
   "cell_type": "code",
   "execution_count": 1,
   "metadata": {
    "collapsed": true
   },
   "outputs": [],
   "source": [
    "import numpy as np              # Grab all of the NumPy functions with nickname np"
   ]
  },
  {
   "cell_type": "code",
   "execution_count": 2,
   "metadata": {
    "collapsed": true
   },
   "outputs": [],
   "source": [
    "# We want our plots to be displayed inline, not in a separate window\n",
    "%matplotlib inline\n",
    "\n",
    "# Import the plotting functions  \n",
    "import matplotlib.pyplot as plt\n",
    "\n",
    "# Import the ODE solver for our time response analysis\n",
    "from scipy.integrate import odeint  "
   ]
  },
  {
   "cell_type": "code",
   "execution_count": 18,
   "metadata": {
    "collapsed": false
   },
   "outputs": [
    {
     "ename": "IndexError",
     "evalue": "list index out of range",
     "output_type": "error",
     "traceback": [
      "\u001b[1;31m---------------------------------------------------------------------------\u001b[0m",
      "\u001b[1;31mIndexError\u001b[0m                                Traceback (most recent call last)",
      "\u001b[1;32m<ipython-input-18-33733fefcb57>\u001b[0m in \u001b[0;36m<module>\u001b[1;34m()\u001b[0m\n\u001b[0;32m      4\u001b[0m \u001b[1;32mwhile\u001b[0m \u001b[0mi\u001b[0m \u001b[1;33m<\u001b[0m\u001b[0mN\u001b[0m\u001b[1;33m:\u001b[0m\u001b[1;33m\u001b[0m\u001b[0m\n\u001b[0;32m      5\u001b[0m     \u001b[0mxi\u001b[0m \u001b[1;33m=\u001b[0m \u001b[1;36m0\u001b[0m\u001b[1;33m\u001b[0m\u001b[0m\n\u001b[1;32m----> 6\u001b[1;33m     \u001b[0mX\u001b[0m\u001b[1;33m[\u001b[0m\u001b[0mi\u001b[0m\u001b[1;33m]\u001b[0m\u001b[1;33m.\u001b[0m\u001b[0mappend\u001b[0m\u001b[1;33m(\u001b[0m\u001b[0mxi\u001b[0m\u001b[1;33m)\u001b[0m\u001b[1;31m# = 'x{}'.format(i)\u001b[0m\u001b[1;33m\u001b[0m\u001b[0m\n\u001b[0m\u001b[0;32m      7\u001b[0m     \u001b[0mi\u001b[0m\u001b[1;33m+=\u001b[0m\u001b[1;36m1\u001b[0m\u001b[1;33m\u001b[0m\u001b[0m\n\u001b[0;32m      8\u001b[0m     \u001b[0mX\u001b[0m\u001b[1;33m[\u001b[0m\u001b[0mi\u001b[0m\u001b[1;33m]\u001b[0m \u001b[1;33m=\u001b[0m \u001b[1;34m'x{}_dot'\u001b[0m \u001b[1;33m.\u001b[0m\u001b[0mformat\u001b[0m\u001b[1;33m(\u001b[0m\u001b[0mi\u001b[0m\u001b[1;33m-\u001b[0m\u001b[1;36m1\u001b[0m\u001b[1;33m)\u001b[0m\u001b[1;33m\u001b[0m\u001b[0m\n",
      "\u001b[1;31mIndexError\u001b[0m: list index out of range"
     ]
    }
   ],
   "source": [
    "N_m = 10\n",
    "X=[]\n",
    "i=0\n",
    "while i <N:\n",
    "    xi = 0\n",
    "    X[i].append(xi)# = 'x{}'.format(i)\n",
    "    i+=1\n",
    "    X[i] = 'x{}_dot' .format(i-1)\n",
    "    i+=1\n",
    "print(X)"
   ]
  },
  {
   "cell_type": "code",
   "execution_count": 19,
   "metadata": {
    "collapsed": false
   },
   "outputs": [
    {
     "ename": "TypeError",
     "evalue": "'str' object is not callable",
     "output_type": "error",
     "traceback": [
      "\u001b[1;31m---------------------------------------------------------------------------\u001b[0m",
      "\u001b[1;31mTypeError\u001b[0m                                 Traceback (most recent call last)",
      "\u001b[1;32m<ipython-input-19-864eef9d564c>\u001b[0m in \u001b[0;36m<module>\u001b[1;34m()\u001b[0m\n\u001b[0;32m     42\u001b[0m \u001b[0mi\u001b[0m \u001b[1;33m=\u001b[0m \u001b[1;36m0\u001b[0m\u001b[1;33m\u001b[0m\u001b[0m\n\u001b[0;32m     43\u001b[0m \u001b[1;32mwhile\u001b[0m \u001b[0mi\u001b[0m \u001b[1;33m<\u001b[0m \u001b[0mN_m\u001b[0m\u001b[1;33m:\u001b[0m\u001b[1;33m\u001b[0m\u001b[0m\n\u001b[1;32m---> 44\u001b[1;33m     \u001b[0mX\u001b[0m\u001b[1;33m[\u001b[0m\u001b[0mi\u001b[0m\u001b[1;33m]\u001b[0m \u001b[1;33m=\u001b[0m \u001b[1;34m'x%d'\u001b[0m\u001b[1;33m(\u001b[0m\u001b[0mi\u001b[0m\u001b[1;33m)\u001b[0m\u001b[1;33m\u001b[0m\u001b[0m\n\u001b[0m\u001b[0;32m     45\u001b[0m     \u001b[0mi\u001b[0m \u001b[1;33m=\u001b[0m \u001b[0mi\u001b[0m \u001b[1;33m+\u001b[0m \u001b[1;36m1\u001b[0m\u001b[1;33m\u001b[0m\u001b[0m\n\u001b[0;32m     46\u001b[0m     \u001b[0mX\u001b[0m\u001b[1;33m[\u001b[0m\u001b[0mi\u001b[0m\u001b[1;33m]\u001b[0m \u001b[1;33m=\u001b[0m \u001b[0mx\u001b[0m\u001b[1;33m(\u001b[0m\u001b[0mi\u001b[0m\u001b[1;33m-\u001b[0m\u001b[1;36m1\u001b[0m\u001b[1;33m)\u001b[0m\u001b[1;33m(\u001b[0m\u001b[0mdot\u001b[0m\u001b[1;33m)\u001b[0m\u001b[1;33m\u001b[0m\u001b[0m\n",
      "\u001b[1;31mTypeError\u001b[0m: 'str' object is not callable"
     ]
    }
   ],
   "source": [
    "#defining the ship mass, stiffness, and damping constants starting with [0]\n",
    "M0 = 1\n",
    "K0 = 2\n",
    "C0 = 3\n",
    "\n",
    "#string elements start with [1]\n",
    "M1 = 10\n",
    "K1 = 20\n",
    "C1 = 30\n",
    "\n",
    "N_m = 10                 #specify the number of masses in the model, total\n",
    "#Creating the vectors for the string constants\n",
    "K = np.linspace(1., N_m, N_m)\n",
    "C = np.linspace(1., N_m, N_m)\n",
    "M = np.linspace(1., N_m, N_m)\n",
    "A = np.linspace(1., N_m, N_m)\n",
    "OMEGA = np.linspace(1., N_m, N_m)\n",
    "PHI = np.linspace(1., N_m, N_m)\n",
    "X = np.linspace(1., N_m, 2*N_m)\n",
    "#p = np.linspace(1., N_m, 10*N_m)\n",
    "\n",
    "#ship Mass, Stiffness, Damping start in the vectors at 0\n",
    "M[0] = M0\n",
    "K[0] = K0\n",
    "C[0] = C0\n",
    "\n",
    "#string elements start with [1]\n",
    "M[1] = M1\n",
    "K[1] = K1\n",
    "C[1] = C1\n",
    "\n",
    "#for simplicity, setting each string element equal to the first.  \n",
    "#this can be changed to a formula for the properties of each string element later\n",
    "i = 2\n",
    "while i < N_m:\n",
    "    K[i] = K[1]\n",
    "    M[i] = M[1]\n",
    "    C[i] = C[1]\n",
    "    i = i + 1\n",
    "\n",
    "#defining the x, x_dot vector for w\n",
    "i = 0\n",
    "while i < N_m:\n",
    "    X[i] = 'x%d'(i)\n",
    "    i = i + 1\n",
    "    X[i] = x(i-1)(dot)\n",
    "    i = i + 1\n",
    "\n",
    "print(X)\n",
    "\n",
    "#np.append([K,M,C], axis=0)\n",
    "#can also automate plotting maybe with i for the intermediate string elements, but explicitly write for \n",
    "#the ship, string top, and string bottom\n",
    "    "
   ]
  },
  {
   "cell_type": "code",
   "execution_count": 4,
   "metadata": {
    "collapsed": false
   },
   "outputs": [
    {
     "data": {
      "text/plain": [
       "array([  3.,  30.,  30.,  30.,  30.,  30.,  30.,  30.,  30.,  30.])"
      ]
     },
     "execution_count": 4,
     "metadata": {},
     "output_type": "execute_result"
    }
   ],
   "source": [
    "#M[:] + K[:]\n",
    "M + K\n"
   ]
  },
  {
   "cell_type": "code",
   "execution_count": 5,
   "metadata": {
    "collapsed": false
   },
   "outputs": [
    {
     "name": "stdout",
     "output_type": "stream",
     "text": [
      "[  1.  10.  10.  10.  10.  10.  10.  10.  10.  10.   2.  20.  20.  20.  20.\n",
      "  20.  20.  20.  20.  20.   3.  30.  30.  30.  30.  30.  30.  30.  30.  30.]\n",
      "[[1 2]\n",
      " [3 4]\n",
      " [5 6]]\n"
     ]
    }
   ],
   "source": [
    "a=np.array([[1,2],[3,4]])\n",
    "b=np.array([[5,6]])\n",
    "np.concatenate((a,b),)\n",
    "p = np.concatenate((M,K,C),)\n",
    "print(p)\n",
    "print(np.concatenate((a,b),))"
   ]
  },
  {
   "cell_type": "code",
   "execution_count": 8,
   "metadata": {
    "collapsed": false
   },
   "outputs": [],
   "source": [
    "def eq_of_motion(w, t, p):\n",
    "    \"\"\"\n",
    "    Defines the differential equations for the direct-force mass-spring-damper system.\n",
    "\n",
    "    Arguments:\n",
    "        w :  vector of the state variables:\n",
    "        t :  time\n",
    "        p :  vector of the parameters:\n",
    "    \"\"\"\n",
    "    X = w\n",
    "    M,K,C,A,OMEGA,PHI = p\n",
    "    #[M1, M2, M3, M4, M5, M6, M7, M8, M9, M10, K1, K2, K3, K4, K5, K6, K7, K8, K9, K10, StartTime, A_amp, omega, A_1, A_2, A_3, A_4, A_5, omega_1, omega_2, omega_3, omega_4, omega_5,\n",
    "     #phi_1, phi_2, phi_3, phi_4, phi_5, C1, C2, C3, C4, C5, C6, C7, C8, C9, C10] = p\n",
    "    \n",
    "    # Create sysODE = (x1', x1_dot', y', y_dot') \n",
    "    #x = x1, x_dot = x1_dot, y = x2, y_dot = x2_dot\n",
    "    #create x vector = [1] ship position, [2] ship velocity, [3] string 1 position, [4] string 1 velocity, [5] s2 po, [6] s2 vel, [7] s3 po, [8] s3 vel\n",
    "    \n",
    "    sysODE[0] = w[1]\n",
    "    sysODE[1] = -C[0]/M[0] * w[1] - (K[0] + K[1])/M[0] * w[2] + K[1]/M[0] * w[4] + x_wave(t, p)\n",
    "    \n",
    "    #this loop creates the xi_dot elements of the sysODE\n",
    "    i = 2                                #starts at 2 because 0 is defined explicitly for the ship above\n",
    "    while i < (2 * N_ms):\n",
    "        sysODE[i] = x(i/2)_dot        \n",
    "        i = i+2                          #i + 2 is used to skip the xddot elements of sysODE\n",
    "    \n",
    "    i = 2\n",
    "    while i < (2 * N_ms):\n",
    "        sysODE[i+1] = -C[i/2]/M[i/2] * x(i/2)_dot + K[i/2]/M[i] * x(i/2-1) - (K[i/2] + K[i/2+1])/M[i/2] * x(i/2) + K[i/2+1]/M(i/2) * x(i/2+1)\n",
    "        i=i+2\n",
    "        \n",
    "    sysODE[N_ms-1] = x(N_ms)_dot\n",
    "    sysODE[N_ms] = -C[N_ms]/M[N_ms] * x(N_ms)_dot + K[N_ms]/M[N_ms] * x(N_ms-1) - K[N_ms]/M[N_ms] * x(N_ms)\n",
    "    return sysODE"
   ]
  }
 ],
 "metadata": {
  "kernelspec": {
   "display_name": "Python 3",
   "language": "python",
   "name": "python3"
  },
  "language_info": {
   "codemirror_mode": {
    "name": "ipython",
    "version": 3
   },
   "file_extension": ".py",
   "mimetype": "text/x-python",
   "name": "python",
   "nbconvert_exporter": "python",
   "pygments_lexer": "ipython3",
   "version": "3.5.1"
  }
 },
 "nbformat": 4,
 "nbformat_minor": 0
}
